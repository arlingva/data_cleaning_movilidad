{
 "cells": [
  {
   "cell_type": "markdown",
   "metadata": {},
   "source": [
    "# Data wrangling"
   ]
  },
  {
   "cell_type": "markdown",
   "metadata": {},
   "source": [
    "El dataset de movilidad se descargó día por día desde R; cada mes está contenido en una carpeta con nombre en formato `aaaadd`. El objetivo de esta libreta es crear el conjunto de datos del mes a partir de las descargas diarias."
   ]
  },
  {
   "cell_type": "markdown",
   "metadata": {},
   "source": [
    "### Resumen de datos leídos, número de registros y tiempo de procesamiento:"
   ]
  },
  {
   "cell_type": "markdown",
   "metadata": {},
   "source": [
    "Septiembre\n",
    "\n",
    "- Archivos leídos: 13\n",
    "- Total de registros: 13160173\n",
    "- CPU times: user 41.7 s, sys: 6.34 s, total: 48 s\n",
    "- Wall time: 50.6 s\n",
    "    \n",
    "Octubre\n",
    "\n",
    "- Wall time: 14min 24s\n",
    "- Archivos leídos: 31\n",
    "- Total de registros: 27898954\n",
    "- CPU times: user 1min 52s, sys: 56.7 s, total: 2min 49s\n",
    "- Wall time: 3min 50s\n",
    "\n",
    "\n",
    "Noviembre\n",
    "\n",
    "- Archivos leídos: 30\n",
    "- Total de registros: 27142164\n",
    "- CPU times: user 1min 48s, sys: 51.4 s, total: 2min 39s\n",
    "- Wall time: 4min 30s\n",
    "\n",
    "Diciembre\n",
    "\n",
    "- Archivos leídos: 13\n",
    "- Total de registros: 12381161\n",
    "- CPU times: user 40.5 s, sys: 5.54 s, total: 46.1 s\n",
    "- Wall time: 48.2 s"
   ]
  },
  {
   "cell_type": "code",
   "execution_count": 1,
   "metadata": {},
   "outputs": [],
   "source": [
    "import pandas as pd\n",
    "import os\n",
    "import shutil"
   ]
  },
  {
   "cell_type": "code",
   "execution_count": 28,
   "metadata": {},
   "outputs": [],
   "source": [
    "def CreaArchivoMes(mes):\n",
    "    \"\"\"Lee archivos de movilidad diario y crea un data frame del mes.\n",
    "    Los archivos csv deben estar en la carpeta 'data_google/2020mm'\n",
    "    \n",
    "    Parameters\n",
    "    ----------\n",
    "    mes : Mes en formato mm (chr)\n",
    "    \n",
    "    Returns\n",
    "    ----------\n",
    "    df : data frame con datos de movilidad\n",
    "    registrosxdia : data frame con cantidad de registros por día (deshabilitado)\n",
    "    \"\"\"\n",
    "    \n",
    "    folder = '../data_google/2020'+mes+'/'\n",
    "    archivosDia = os.listdir(folder)\n",
    "    df = pd.DataFrame()\n",
    "    dimension = 0\n",
    "    #registrosxdia = pd.DataFrame()\n",
    "    for file in archivosDia:\n",
    "        if os.path.isfile(os.path.join(folder, file)) and file.endswith('.csv'):\n",
    "            print('Leyendo...' + file)\n",
    "            temp = pd.read_csv(f\"{folder}{file}\", dtype={'tier1': 'str', 'tier2': 'str', 'IDL': 'str'})\n",
    "            #registrosxdia = registrosxdia.append([(file, temp.shape[0])])\n",
    "            df = pd.concat([df, temp])\n",
    "            dimension = dimension + temp.shape[0]\n",
    "    print('Archivos leídos: ')\n",
    "    print(len(archivosDia))\n",
    "    print('Total de registros: ')\n",
    "    print(dimension)\n",
    "    return df"
   ]
  },
  {
   "cell_type": "code",
   "execution_count": null,
   "metadata": {},
   "outputs": [],
   "source": [
    "#GoogleCloud09 = CreaArchivoMes('09')\n",
    "#GoogleCloud10 = CreaArchivoMes('10')\n",
    "#GoogleCloud11 = CreaArchivoMes('11')\n",
    "#GoogleCloud12 = CreaArchivoMes('12')"
   ]
  },
  {
   "cell_type": "code",
   "execution_count": 13,
   "metadata": {},
   "outputs": [
    {
     "data": {
      "text/plain": [
       "'/Users/arling/git/movilidad/data_google/202012.zip'"
      ]
     },
     "execution_count": 13,
     "metadata": {},
     "output_type": "execute_result"
    }
   ],
   "source": [
    "#shutil.make_archive('../data_google/202009', 'zip', '../data_google/202009')\n",
    "#shutil.make_archive('../data_google/202010', 'zip', '../data_google/202010')\n",
    "#shutil.make_archive('../data_google/202011', 'zip', '../data_google/202011')\n",
    "#shutil.make_archive('../data_google/202012', 'zip', '../data_google/202012')"
   ]
  },
  {
   "cell_type": "code",
   "execution_count": 22,
   "metadata": {},
   "outputs": [],
   "source": [
    "#GoogleCloud09 = GoogleCloud09.drop(GoogleCloud09.columns[0], axis='columns')\n",
    "#GoogleCloud10 = GoogleCloud10.drop(GoogleCloud10.columns[0], axis='columns')\n",
    "#GoogleCloud11 = GoogleCloud11.drop(GoogleCloud11.columns[0], axis='columns')\n",
    "#GoogleCloud12 = GoogleCloud12.drop(GoogleCloud12.columns[0], axis='columns')"
   ]
  },
  {
   "cell_type": "markdown",
   "metadata": {},
   "source": [
    "### Guarda datos del mes en formato parquet"
   ]
  },
  {
   "cell_type": "markdown",
   "metadata": {},
   "source": [
    "- Septiembre: 42.9s\n",
    "\n",
    "- Octubre: 2m 26.5s\n",
    "\n",
    "- Noviembre: 1m 17.1s\n",
    "\n",
    "- Diciembre: 38.7s\n"
   ]
  },
  {
   "cell_type": "code",
   "execution_count": 21,
   "metadata": {},
   "outputs": [],
   "source": [
    "#GoogleCloud09.to_parquet('../data_google/GoogleCloud_202009.parquet')\n",
    "#GoogleCloud10.to_parquet('../data_google/GoogleCloud_202010.parquet')\n",
    "#GoogleCloud11.to_parquet('../data_google/GoogleCloud_202011.parquet')\n",
    "#GoogleCloud12.to_parquet('../data_google/GoogleCloud_202012.parquet')"
   ]
  },
  {
   "cell_type": "code",
   "execution_count": 35,
   "metadata": {},
   "outputs": [
    {
     "name": "stdout",
     "output_type": "stream",
     "text": [
      "(13160173, 12)\n",
      "(27898954, 12)\n",
      "(27142164, 12)\n",
      "(12381161, 12)\n",
      "80582452\n"
     ]
    }
   ],
   "source": [
    "print(GoogleCloud09.shape)\n",
    "print(GoogleCloud10.shape)\n",
    "print(GoogleCloud11.shape)\n",
    "print(GoogleCloud12.shape)\n",
    "print(GoogleCloud09.shape[0] + GoogleCloud10.shape[0] + GoogleCloud11.shape[0] + GoogleCloud12.shape[0])"
   ]
  },
  {
   "cell_type": "markdown",
   "metadata": {},
   "source": [
    "- (13160173, 13)\n",
    "- (27898954, 13)\n",
    "- (27142164, 13)\n",
    "- (12381161, 13)\n",
    "\n",
    "Total: 80582452"
   ]
  },
  {
   "cell_type": "markdown",
   "metadata": {},
   "source": [
    "Guarda datos en formato parquet."
   ]
  },
  {
   "cell_type": "code",
   "execution_count": 3,
   "metadata": {},
   "outputs": [],
   "source": [
    "GoogleCloud09 = pd.read_parquet('../data_google/GoogleCloud_202009.parquet')\n",
    "GoogleCloud10 = pd.read_parquet('../data_google/GoogleCloud_202010.parquet')\n",
    "GoogleCloud11 = pd.read_parquet('../data_google/GoogleCloud_202011.parquet')\n",
    "GoogleCloud12 = pd.read_parquet('../data_google/GoogleCloud_202012.parquet')"
   ]
  },
  {
   "cell_type": "code",
   "execution_count": 4,
   "metadata": {},
   "outputs": [],
   "source": [
    "df = pd.concat([GoogleCloud09, GoogleCloud10, GoogleCloud11, GoogleCloud12])"
   ]
  },
  {
   "cell_type": "code",
   "execution_count": 8,
   "metadata": {},
   "outputs": [],
   "source": [
    "df.to_parquet('../data_google/GoogleCloud.parquet')"
   ]
  }
 ],
 "metadata": {
  "kernelspec": {
   "display_name": "Python 3 (ipykernel)",
   "language": "python",
   "name": "python3"
  },
  "language_info": {
   "codemirror_mode": {
    "name": "ipython",
    "version": 3
   },
   "file_extension": ".py",
   "mimetype": "text/x-python",
   "name": "python",
   "nbconvert_exporter": "python",
   "pygments_lexer": "ipython3",
   "version": "3.10.2"
  }
 },
 "nbformat": 4,
 "nbformat_minor": 4
}
