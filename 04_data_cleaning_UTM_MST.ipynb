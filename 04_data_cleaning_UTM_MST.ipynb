{
 "cells": [
  {
   "cell_type": "markdown",
   "metadata": {},
   "source": [
    "Convierte lat y lon a UTM"
   ]
  },
  {
   "cell_type": "code",
   "execution_count": 1,
   "metadata": {},
   "outputs": [],
   "source": [
    "import pandas as pd\n",
    "import numpy as np"
   ]
  },
  {
   "cell_type": "markdown",
   "metadata": {},
   "source": [
    "Lectura de datos de movilidad"
   ]
  },
  {
   "cell_type": "code",
   "execution_count": 2,
   "metadata": {},
   "outputs": [
    {
     "name": "stdout",
     "output_type": "stream",
     "text": [
      "CPU times: user 43.7 s, sys: 2min 56s, total: 3min 40s\n",
      "Wall time: 5min\n"
     ]
    }
   ],
   "source": [
    "%%time\n",
    "data_movilidad = pd.read_parquet('../data_google/data_movilidad.parquet')\n",
    "#data_movilidad.head()"
   ]
  },
  {
   "cell_type": "markdown",
   "metadata": {},
   "source": [
    "EPSG:4326\n",
    "WGS 84 -- WGS84 - World Geodetic System 1984, used in GPS"
   ]
  },
  {
   "cell_type": "markdown",
   "metadata": {},
   "source": [
    "https://gidahatari.com/ih-es/tutorial-para-transformar-sistemas-de-coordenadas-de-puntos-xy-con-python-pandas-y-pyproj"
   ]
  },
  {
   "cell_type": "markdown",
   "metadata": {},
   "source": [
    "## Proyección de los datos"
   ]
  },
  {
   "cell_type": "code",
   "execution_count": 6,
   "metadata": {},
   "outputs": [],
   "source": [
    "from pyproj import Transformer\n",
    "transformer = Transformer.from_crs('epsg:4326','epsg:32612',always_xy=True)"
   ]
  },
  {
   "cell_type": "markdown",
   "metadata": {},
   "source": [
    "### Convierte lon, lat a UTM"
   ]
  },
  {
   "cell_type": "code",
   "execution_count": 7,
   "metadata": {},
   "outputs": [
    {
     "name": "stdout",
     "output_type": "stream",
     "text": [
      "CPU times: user 1min 20s, sys: 17.6 s, total: 1min 38s\n",
      "Wall time: 2min 2s\n"
     ]
    }
   ],
   "source": [
    "%%time\n",
    "points = list(zip(data_movilidad.lon, data_movilidad.lat))\n",
    "coordsUTM = np.array(list(transformer.itransform(points)))"
   ]
  },
  {
   "cell_type": "markdown",
   "metadata": {},
   "source": [
    "Renombra variables"
   ]
  },
  {
   "cell_type": "code",
   "execution_count": 8,
   "metadata": {},
   "outputs": [],
   "source": [
    "coordsUTM = pd.DataFrame(coordsUTM)\n",
    "coordsUTM.set_axis(['X', 'Y'], axis='columns', inplace=True)"
   ]
  },
  {
   "cell_type": "markdown",
   "metadata": {},
   "source": [
    "Agrega a data frame"
   ]
  },
  {
   "cell_type": "code",
   "execution_count": 9,
   "metadata": {},
   "outputs": [
    {
     "name": "stdout",
     "output_type": "stream",
     "text": [
      "CPU times: user 137 ms, sys: 301 ms, total: 437 ms\n",
      "Wall time: 486 ms\n"
     ]
    }
   ],
   "source": [
    "%%time\n",
    "data_movilidad.insert(data_movilidad.shape[1], 'X', coordsUTM.X)\n",
    "data_movilidad.insert(data_movilidad.shape[1], 'Y', coordsUTM.Y)"
   ]
  },
  {
   "cell_type": "code",
   "execution_count": 10,
   "metadata": {},
   "outputs": [],
   "source": [
    "#data_movilidad.head()"
   ]
  },
  {
   "cell_type": "code",
   "execution_count": 11,
   "metadata": {},
   "outputs": [],
   "source": [
    "data_movilidad = data_movilidad.drop(['lat', 'lon'], axis=1)\n",
    "#data_movilidad.head()"
   ]
  },
  {
   "cell_type": "code",
   "execution_count": 12,
   "metadata": {},
   "outputs": [],
   "source": [
    "#data_movilidad.to_parquet('../data_google/data_movilidad_UTC_MST.parquet')"
   ]
  },
  {
   "cell_type": "markdown",
   "metadata": {},
   "source": [
    "### Convierte UTC a MST"
   ]
  },
  {
   "cell_type": "code",
   "execution_count": 13,
   "metadata": {},
   "outputs": [],
   "source": [
    "from datetime import datetime\n",
    "from dateutil import tz\n",
    "\n",
    "from_zone = tz.gettz('UTC')\n",
    "to_zone = tz.gettz('MST')"
   ]
  },
  {
   "cell_type": "code",
   "execution_count": 14,
   "metadata": {},
   "outputs": [],
   "source": [
    "def UTC_to_MST(vector, from_zone, to_zone):\n",
    "    mst = [] #pd.DataFrame\n",
    "    for utc in vector:\n",
    "        utc = datetime.strptime(utc, '%Y-%m-%d %H:%M:%S')\n",
    "        utc = utc.replace(tzinfo=from_zone)\n",
    "        transf_mst = utc.astimezone(to_zone)\n",
    "        transf_mst = transf_mst.strftime('%Y-%m-%d %H:%M:%S')\n",
    "        #transf_mst = '\"'+transf_mst+'\"'\n",
    "        mst.append(transf_mst)\n",
    "    return mst"
   ]
  },
  {
   "cell_type": "code",
   "execution_count": 16,
   "metadata": {},
   "outputs": [],
   "source": [
    "MST = UTC_to_MST(data_movilidad.timestamp, from_zone, to_zone)"
   ]
  },
  {
   "cell_type": "code",
   "execution_count": 17,
   "metadata": {},
   "outputs": [],
   "source": [
    "data_movilidad.insert(data_movilidad.shape[1], 'MST', MST)"
   ]
  },
  {
   "cell_type": "code",
   "execution_count": 18,
   "metadata": {},
   "outputs": [],
   "source": [
    "data_movilidad_transf = data_movilidad[['id_adv', 'X', 'Y', 'MST']]\n",
    "#data_movilidad_transf.head()"
   ]
  },
  {
   "cell_type": "code",
   "execution_count": 19,
   "metadata": {},
   "outputs": [],
   "source": [
    "#data_movilidad.head()"
   ]
  },
  {
   "cell_type": "code",
   "execution_count": 20,
   "metadata": {},
   "outputs": [],
   "source": [
    "#data_movilidad_transf.to_parquet('../data_google/data_movilidad_UTC_MST.parquet')"
   ]
  },
  {
   "cell_type": "markdown",
   "metadata": {},
   "source": [
    "Crea columna con día y con fecha"
   ]
  },
  {
   "cell_type": "code",
   "execution_count": 21,
   "metadata": {},
   "outputs": [],
   "source": [
    "#data_movilidad_transf = pd.read_parquet('../data/data_movilidad_UTC_MST.parquet')\n",
    "#data_movilidad_transf.head()"
   ]
  },
  {
   "cell_type": "markdown",
   "metadata": {},
   "source": [
    "Prueba para separar fecha de hora"
   ]
  },
  {
   "cell_type": "code",
   "execution_count": 23,
   "metadata": {},
   "outputs": [
    {
     "name": "stdout",
     "output_type": "stream",
     "text": [
      "2020-09-17\n",
      "17:09:04\n"
     ]
    }
   ],
   "source": [
    "#!pip install regex\n",
    "import re\n",
    "B = \"2020-09-17 17:09:04\"\n",
    "(dia, hora) = re.split(\" \", B)\n",
    "print(dia)\n",
    "print(hora)"
   ]
  },
  {
   "cell_type": "code",
   "execution_count": 24,
   "metadata": {},
   "outputs": [],
   "source": [
    "dia = []\n",
    "hora = []\n",
    "\n",
    "for i in range(0, len(data_movilidad_transf.MST)):\n",
    "    t = re.split(\" \", data_movilidad_transf.MST[i])\n",
    "    dia.append(t[0])\n",
    "    hora.append(t[1])"
   ]
  },
  {
   "cell_type": "code",
   "execution_count": 25,
   "metadata": {},
   "outputs": [],
   "source": [
    "data_movilidad_transf.insert(data_movilidad_transf.shape[1], 'dia', dia)\n",
    "data_movilidad_transf.insert(data_movilidad_transf.shape[1], 'hora', hora)"
   ]
  },
  {
   "cell_type": "code",
   "execution_count": 23,
   "metadata": {},
   "outputs": [],
   "source": [
    "#data_movilidad_transf.to_parquet('../data_google/data_movilidad_UTC_MST.parquet', index=False)"
   ]
  },
  {
   "cell_type": "markdown",
   "metadata": {},
   "source": [
    "## Guardar data frame por mes"
   ]
  },
  {
   "cell_type": "code",
   "execution_count": 26,
   "metadata": {},
   "outputs": [
    {
     "name": "stdout",
     "output_type": "stream",
     "text": [
      "CPU times: user 3 µs, sys: 1e+03 ns, total: 4 µs\n",
      "Wall time: 240 µs\n"
     ]
    }
   ],
   "source": [
    "%%time\n",
    "#data_movilidad_transf = pd.read_parquet('../data/data_movilidad_UTC_MST.parquet')\n",
    "#data_movilidad_transf.head()"
   ]
  },
  {
   "cell_type": "code",
   "execution_count": 9,
   "metadata": {},
   "outputs": [
    {
     "name": "stdout",
     "output_type": "stream",
     "text": [
      "CPU times: user 17.5 s, sys: 2.26 s, total: 19.8 s\n",
      "Wall time: 20.9 s\n"
     ]
    }
   ],
   "source": [
    "%%time\n",
    "data_09 = data_movilidad_transf[data_movilidad_transf['dia'].str.contains('2020-09')]\n",
    "data_09.to_parquet('../data_google/data_movilidad_UTC_MST_09.parquet', index=False)"
   ]
  },
  {
   "cell_type": "code",
   "execution_count": 4,
   "metadata": {},
   "outputs": [
    {
     "name": "stdout",
     "output_type": "stream",
     "text": [
      "CPU times: user 25.3 s, sys: 4.48 s, total: 29.8 s\n",
      "Wall time: 32.5 s\n"
     ]
    }
   ],
   "source": [
    "%%time\n",
    "data_10 = data_movilidad_transf[data_movilidad_transf['dia'].str.contains('2020-10')]\n",
    "#data_10.to_parquet('../data/data_movilidad_UTC_MST_10.parquet', index=False)"
   ]
  },
  {
   "cell_type": "code",
   "execution_count": 5,
   "metadata": {},
   "outputs": [
    {
     "name": "stdout",
     "output_type": "stream",
     "text": [
      "CPU times: user 22.6 s, sys: 4.04 s, total: 26.6 s\n",
      "Wall time: 29.8 s\n"
     ]
    }
   ],
   "source": [
    "%%time\n",
    "data_11 = data_movilidad_transf[data_movilidad_transf['dia'].str.contains('2020-11')]\n",
    "#data_11.to_parquet('../data/data_movilidad_UTC_MST_11.parquet', index=False)"
   ]
  },
  {
   "cell_type": "code",
   "execution_count": 6,
   "metadata": {},
   "outputs": [
    {
     "name": "stdout",
     "output_type": "stream",
     "text": [
      "CPU times: user 17.5 s, sys: 2.36 s, total: 19.9 s\n",
      "Wall time: 22.2 s\n"
     ]
    }
   ],
   "source": [
    "%%time\n",
    "data_12 = data_movilidad_transf[data_movilidad_transf['dia'].str.contains('2020-12')]\n",
    "#data_12.to_parquet('../data/data_movilidad_UTC_MST_12.parquet', index=False)"
   ]
  },
  {
   "cell_type": "code",
   "execution_count": 11,
   "metadata": {},
   "outputs": [
    {
     "data": {
      "text/plain": [
       "47592840"
      ]
     },
     "execution_count": 11,
     "metadata": {},
     "output_type": "execute_result"
    }
   ],
   "source": [
    "data_09.shape[0] + data_10.shape[0] + data_11.shape[0] + data_12.shape[0]"
   ]
  },
  {
   "cell_type": "code",
   "execution_count": 70,
   "metadata": {},
   "outputs": [
    {
     "data": {
      "text/plain": [
       "datetime.datetime(2020, 9, 17, 17, 9, 4)"
      ]
     },
     "execution_count": 70,
     "metadata": {},
     "output_type": "execute_result"
    }
   ],
   "source": [
    "#datetime.strptime(data_movilidad_transf.MST[0], '%Y-%m-%d %H:%M:%S')"
   ]
  }
 ],
 "metadata": {
  "kernelspec": {
   "display_name": "Python 3.10.5 ('movilidad_env')",
   "language": "python",
   "name": "python3"
  },
  "language_info": {
   "codemirror_mode": {
    "name": "ipython",
    "version": 3
   },
   "file_extension": ".py",
   "mimetype": "text/x-python",
   "name": "python",
   "nbconvert_exporter": "python",
   "pygments_lexer": "ipython3",
   "version": "3.10.5"
  },
  "vscode": {
   "interpreter": {
    "hash": "ed327dd66322497d176c7868172bdee288ab0303ae9f521d253161f3b0613e81"
   }
  }
 },
 "nbformat": 4,
 "nbformat_minor": 4
}
